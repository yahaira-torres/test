{
 "cells": [
  {
   "cell_type": "code",
   "execution_count": null,
   "id": "ee145913",
   "metadata": {},
   "outputs": [],
   "source": [
    "try:\n",
    "    ls = [\"apple\",\"banana\", \"cherry\"]\n",
    "    index = int(input(\"Enter the index (0, 1, or 2) of the fruit you want: \"))\n",
    "    print(ls[index])\n",
    "except ValueError:\n",
    "    print(\"That's not a number\")\n",
    "except IndexError:\n",
    "    print(\"Index is outside the valid range\")"
   ]
  },
  {
   "cell_type": "code",
   "execution_count": null,
   "id": "9632cbea",
   "metadata": {},
   "outputs": [],
   "source": [
    "try:    \n",
    "    num1 = int(input(\"Enter a number:\"))\n",
    "    num2 = int(input(\"Enter another number:\"))\n",
    "    result = num1 / num2 \n",
    "    print(\"Result is\", result) \n",
    "except ZeroDivisionError:\n",
    "    print(\"You cannot divide by zero\")\n",
    "except ValueError:\n",
    "    print(\"That's not a number\")"
   ]
  }
 ],
 "metadata": {
  "kernelspec": {
   "display_name": "Python 3",
   "language": "python",
   "name": "python3"
  },
  "language_info": {
   "name": "python",
   "version": "3.13.1"
  }
 },
 "nbformat": 4,
 "nbformat_minor": 5
}
